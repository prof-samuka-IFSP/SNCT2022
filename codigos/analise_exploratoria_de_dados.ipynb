{
 "cells": [
  {
   "cell_type": "markdown",
   "id": "interesting-rouge",
   "metadata": {
    "slideshow": {
     "slide_type": "fragment"
    }
   },
   "source": [
    "# Oficina - Primeiros Passos em Ciência de Dados\n",
    "### Semana Nacional de Ciência e Tecnologia 2022 - IFSP Hortolândia\n",
    "#### Prof. Dr. Samuel Martins - [@samucoding](https://samucoding.com/)"
   ]
  },
  {
   "cell_type": "markdown",
   "id": "ad4a4fec-dd91-4186-93a6-0aad60780856",
   "metadata": {},
   "source": [
    "<h1>Análise Exploratória de Dados</h1><hr/>"
   ]
  },
  {
   "cell_type": "markdown",
   "id": "stuffed-petite",
   "metadata": {},
   "source": [
    "<h2>1. Dataset</h2>\n",
    "<hr/>"
   ]
  },
  {
   "cell_type": "markdown",
   "id": "incorrect-spare",
   "metadata": {},
   "source": [
    "**Dataset**: Google Play Store Apps: https://www.kaggle.com/lava18/google-play-store-apps <br/>\n",
    "\n",
    "Este dataset contém dados sobre aplicativos da Google Play Store (2010 até agosto de 2018). <br/>\n",
    "Cada *observação (registro/linha)* consiste de informações de um app, tais como categoria, avaliação, tamanho, entre outros. <br/>\n",
    "Cada app possui uma avaliação (coluna 'Rating') que consiste da nota média de um conjunto de avaliações (coluna 'Reviews')."
   ]
  },
  {
   "cell_type": "markdown",
   "id": "desirable-staff",
   "metadata": {},
   "source": [
    "### 1.1. Importando o Dataset"
   ]
  },
  {
   "cell_type": "code",
   "execution_count": null,
   "id": "0a93dfaa-cf07-4b23-8379-8f2d0e1c94aa",
   "metadata": {},
   "outputs": [],
   "source": [
    "# importando a biblioteca de manipulação de dados\n"
   ]
  },
  {
   "cell_type": "code",
   "execution_count": null,
   "id": "armed-ethics",
   "metadata": {},
   "outputs": [],
   "source": [
    "# importando o dataset pré-processado\n"
   ]
  },
  {
   "cell_type": "code",
   "execution_count": null,
   "id": "pending-kinase",
   "metadata": {},
   "outputs": [],
   "source": [
    "# exibe o dataset\n"
   ]
  },
  {
   "cell_type": "code",
   "execution_count": null,
   "id": "15fa72dc-9e9d-4135-b234-0122c28dcfcf",
   "metadata": {},
   "outputs": [],
   "source": [
    "# tipo da variável\n"
   ]
  },
  {
   "cell_type": "code",
   "execution_count": null,
   "id": "0f93b31d-ff0c-4e00-b46e-715daac4724f",
   "metadata": {},
   "outputs": [],
   "source": [
    "# exibe as 5 primeiras linhas (instâncias) do dataset\n"
   ]
  },
  {
   "cell_type": "code",
   "execution_count": null,
   "id": "7b54b7d1-3a68-44f1-b772-5e29a5499e32",
   "metadata": {},
   "outputs": [],
   "source": [
    "# exibe as 10 primeiras linhas (instâncias) do dataset\n"
   ]
  },
  {
   "cell_type": "markdown",
   "id": "affected-terry",
   "metadata": {},
   "source": [
    "### 1.2. Informações básicas do Dataset"
   ]
  },
  {
   "cell_type": "code",
   "execution_count": null,
   "id": "light-shelf",
   "metadata": {},
   "outputs": [],
   "source": []
  },
  {
   "cell_type": "markdown",
   "id": "extreme-issue",
   "metadata": {},
   "source": [
    "<br/>\n",
    "\n",
    "O dataset pré-processado possui **8194** registros/observações/linhas e **13** atributos/variáveis/colunas.\n",
    "Nenhum atributo possui valores NaN."
   ]
  },
  {
   "cell_type": "markdown",
   "id": "8a0bb925-b5f3-4da3-8943-6714ecca7531",
   "metadata": {},
   "source": [
    "### 1.3. Comandos básicos"
   ]
  },
  {
   "cell_type": "markdown",
   "id": "fd9fb298-00b0-48de-9f4d-40eac679d691",
   "metadata": {},
   "source": [
    "#### Selecionando uma instância/linha específica\n",
    "P. ex.: instância de índice 100"
   ]
  },
  {
   "cell_type": "code",
   "execution_count": null,
   "id": "e32144ad-3d89-45cd-994f-219540cea97e",
   "metadata": {},
   "outputs": [],
   "source": []
  },
  {
   "cell_type": "code",
   "execution_count": null,
   "id": "9ecd8661-1b98-49ff-a879-a10935324978",
   "metadata": {},
   "outputs": [],
   "source": []
  },
  {
   "cell_type": "code",
   "execution_count": null,
   "id": "8161db2e-d480-483e-bf26-cf37cfea2fb0",
   "metadata": {},
   "outputs": [],
   "source": [
    "# tipo da variável\n"
   ]
  },
  {
   "cell_type": "markdown",
   "id": "183c25d7-4948-4461-8732-a69fa4aa369a",
   "metadata": {},
   "source": [
    "#### Selecionando uma variável/coluna específica\n",
    "P. ex.: 'Rating'"
   ]
  },
  {
   "cell_type": "code",
   "execution_count": null,
   "id": "d5c3a691-d358-48b0-b43e-0db1c1d48545",
   "metadata": {},
   "outputs": [],
   "source": []
  },
  {
   "cell_type": "code",
   "execution_count": null,
   "id": "68d5a8ff-31a7-4a6d-902e-8f224626a551",
   "metadata": {},
   "outputs": [],
   "source": [
    "# armazenando a coluna em uma variável\n"
   ]
  },
  {
   "cell_type": "code",
   "execution_count": null,
   "id": "f3038f3f-02f3-4971-be46-8b519be297f6",
   "metadata": {},
   "outputs": [],
   "source": []
  },
  {
   "cell_type": "code",
   "execution_count": null,
   "id": "8b331f37-9b1f-45c8-9298-e2470a710ac5",
   "metadata": {},
   "outputs": [],
   "source": [
    "# tipo da variável\n"
   ]
  },
  {
   "cell_type": "markdown",
   "id": "49e98138-1795-47f9-a648-14462076ec02",
   "metadata": {},
   "source": [
    "#### Selecionando mais de uma variável/coluna\n",
    "P. ex.: 'App' e 'Rating'"
   ]
  },
  {
   "cell_type": "code",
   "execution_count": null,
   "id": "1ac2b9dc-abac-4aef-899b-6f08eaaedce5",
   "metadata": {},
   "outputs": [],
   "source": []
  },
  {
   "cell_type": "code",
   "execution_count": null,
   "id": "4b1bb1e7-313e-4289-b8a1-4fc4f569cb99",
   "metadata": {},
   "outputs": [],
   "source": [
    "# armazenando em uma variável\n"
   ]
  },
  {
   "cell_type": "code",
   "execution_count": null,
   "id": "322ecf26-7106-406a-960f-c6d46dd41447",
   "metadata": {},
   "outputs": [],
   "source": []
  },
  {
   "cell_type": "code",
   "execution_count": null,
   "id": "7e33421c-2c30-44a6-84df-6c4f4aeff534",
   "metadata": {},
   "outputs": [],
   "source": [
    "# tipo da variável\n"
   ]
  },
  {
   "cell_type": "markdown",
   "id": "91dd7dda-e9c4-4b56-8b85-ce30ae41c08b",
   "metadata": {},
   "source": [
    "#### Selecionando um atributo de uma instância"
   ]
  },
  {
   "cell_type": "code",
   "execution_count": null,
   "id": "26277d60-cbac-4b0e-8348-19efeeca8820",
   "metadata": {},
   "outputs": [],
   "source": []
  },
  {
   "cell_type": "code",
   "execution_count": null,
   "id": "167c758f-d674-42ff-b293-e193161120a9",
   "metadata": {},
   "outputs": [],
   "source": []
  },
  {
   "cell_type": "markdown",
   "id": "matched-moldova",
   "metadata": {},
   "source": [
    "<h2>2. Análise Exploratória de Dados</h2>\n",
    "<hr/>"
   ]
  },
  {
   "cell_type": "markdown",
   "id": "7c397198-64b7-466a-be5d-3315f966661b",
   "metadata": {},
   "source": [
    "### 2.1. Estatísticas descritivas básicas"
   ]
  },
  {
   "cell_type": "code",
   "execution_count": null,
   "id": "693f7393-05aa-4cb8-b082-b7951f5f4707",
   "metadata": {},
   "outputs": [],
   "source": [
    "# computa estatísticas descritivas para cada variável numérica\n"
   ]
  },
  {
   "cell_type": "markdown",
   "id": "98132e5f-e13a-4793-b3c8-32a8a0e9c040",
   "metadata": {},
   "source": [
    "## 2.2 Qual a distribuição das notas?"
   ]
  },
  {
   "cell_type": "markdown",
   "id": "f31b8cd3-032d-4a78-91de-d69706c06b32",
   "metadata": {},
   "source": [
    "### Importando as Bibliotecas de Visualização de Dados"
   ]
  },
  {
   "cell_type": "code",
   "execution_count": null,
   "id": "41d0ea7c-a24c-4d30-8304-7f6f507ab509",
   "metadata": {},
   "outputs": [],
   "source": []
  },
  {
   "cell_type": "markdown",
   "id": "853c135b-c4e4-45e4-9697-d0112f484dac",
   "metadata": {},
   "source": [
    "### Histograma"
   ]
  },
  {
   "cell_type": "code",
   "execution_count": null,
   "id": "72c5cef1-09c2-4c9d-a9a5-d8236b8ef4b1",
   "metadata": {},
   "outputs": [],
   "source": [
    "# histograma\n"
   ]
  },
  {
   "cell_type": "code",
   "execution_count": null,
   "id": "0ae4560c-ec61-42e8-8891-9ca5fe84b343",
   "metadata": {},
   "outputs": [],
   "source": [
    "# histograma com 10 bins\n"
   ]
  },
  {
   "cell_type": "markdown",
   "id": "81e6bc16-5784-4499-9363-f546a3637bf0",
   "metadata": {},
   "source": [
    "#### Personalizando a Visualização"
   ]
  },
  {
   "cell_type": "code",
   "execution_count": null,
   "id": "9a6641c4-f736-4211-abe0-e8197005b5f5",
   "metadata": {},
   "outputs": [],
   "source": [
    "# alterando o tamanho da figura: largura x altura\n",
    "\n",
    "\n",
    "\n",
    "\n",
    "# histograma com 10 bins e cor \"#82C9FF\"\n",
    "\n",
    "\n",
    "\n",
    "\n",
    "# alterando o título do gráfico, com fontsize 20\n",
    "\n",
    "\n",
    "# alterando a label do eixo x, fontsize=14 - Notas\n",
    "\n",
    "\n",
    "# alterando a label do eixo y, fontsize=14 - Contagem\n",
    "\n",
    "\n",
    "# alterando os \"ticks\" do eixo x, fontsize=14\n",
    "\n",
    "\n",
    "# alterando os \"ticks\" do eixo y, fontsize=14\n",
    "\n",
    "\n",
    "# habilitando o grid do gráfico\n",
    "\n",
    "\n",
    "# omitindo os \"outputs\" da tela\n"
   ]
  },
  {
   "cell_type": "markdown",
   "id": "c81193a2-b7ef-4203-b07c-9b9cd2f09554",
   "metadata": {},
   "source": [
    "#### Alterando o estilo padrão de gráficos"
   ]
  },
  {
   "cell_type": "code",
   "execution_count": null,
   "id": "2e463c70-bfab-4faa-85bd-c29e6f80abe3",
   "metadata": {},
   "outputs": [],
   "source": [
    "params = {'legend.fontsize': 14,\n",
    "          'figure.figsize': (10, 6),\n",
    "          'axes.labelsize': 14,\n",
    "          'axes.titlesize': 20,\n",
    "          'xtick.labelsize': 14,\n",
    "          'ytick.labelsize': 14}\n",
    "\n",
    "plt.rcParams.update(params)"
   ]
  },
  {
   "cell_type": "code",
   "execution_count": null,
   "id": "e2be3619-3705-4a7e-8f07-0840567d756e",
   "metadata": {},
   "outputs": [],
   "source": [
    "sns.histplot(data=data, x='Rating', bins=10, color='#82C9FF')\n",
    "\n",
    "# personalização\n",
    "plt.title('Histograma das Notas')\n",
    "plt.xlabel('Notas')\n",
    "plt.ylabel('Contagem')"
   ]
  },
  {
   "cell_type": "markdown",
   "id": "fe1ecc89-0394-4365-af30-c08985fe55e2",
   "metadata": {},
   "source": [
    "#### Invertendo o boxplot"
   ]
  },
  {
   "cell_type": "code",
   "execution_count": null,
   "id": "29fc04f2-d289-45bd-83ce-b6eff8a95e81",
   "metadata": {},
   "outputs": [],
   "source": [
    "# histograma com 10 bins e cor \"#82C9FF\"\n",
    "\n",
    "\n",
    "# personalização\n",
    "plt.title('Histograma das Notas')\n",
    "plt.xlabel('Contagem')\n",
    "plt.ylabel('Notas')\n",
    "\n",
    "plt.grid()"
   ]
  },
  {
   "cell_type": "markdown",
   "id": "610c08bd-5612-426e-a794-3338d52d5153",
   "metadata": {},
   "source": [
    "### Boxplot\n",
    "https://i.ytimg.com/vi/BE8CVGJuftI/maxresdefault.jpg"
   ]
  },
  {
   "cell_type": "markdown",
   "id": "0993b963-5a98-4ca4-a18e-8e3c7bfaf6f8",
   "metadata": {},
   "source": [
    "<img src='https://i.ytimg.com/vi/BE8CVGJuftI/maxresdefault.jpg' />"
   ]
  },
  {
   "cell_type": "code",
   "execution_count": null,
   "id": "6927046c-ee99-4946-9d20-455888ec1816",
   "metadata": {},
   "outputs": [],
   "source": [
    "# boxplot na horizontal\n",
    "\n",
    "\n",
    "# personalização\n",
    "plt.title('Boxplot das Notas')\n",
    "plt.xlabel('Notas')\n",
    "plt.grid()\n",
    "\n",
    "display()"
   ]
  },
  {
   "cell_type": "code",
   "execution_count": null,
   "id": "6b20aab2-545b-47fc-a44e-8846aa286a00",
   "metadata": {},
   "outputs": [],
   "source": [
    "# alterando o tamanho da figura: largura x altura\n",
    "\n",
    "\n",
    "# boxplot na vertical\n",
    "\n",
    "\n",
    "# personalização\n",
    "plt.title('Boxplot das Notas')\n",
    "plt.ylabel('Notas')\n",
    "plt.grid()\n",
    "\n",
    "display()"
   ]
  },
  {
   "cell_type": "markdown",
   "id": "9493ddce-bfdc-4621-b3dc-3a1c8eaddac9",
   "metadata": {},
   "source": [
    "## 2.3 Qual a distribuição das notas de acordo com o tipo do App (Paid, Free)?"
   ]
  },
  {
   "cell_type": "markdown",
   "id": "38a057d1-d5a5-4f67-8313-a8968cb416a0",
   "metadata": {},
   "source": [
    "### Histograma"
   ]
  },
  {
   "cell_type": "code",
   "execution_count": null,
   "id": "e0225818-8cf4-4092-b539-af0ca5739eb3",
   "metadata": {},
   "outputs": [],
   "source": [
    "# histograma com 10 bins, com as cores separando os tipos de apps\n",
    "\n",
    "\n",
    "# personalização\n",
    "plt.title('Histograma das Notas de acordo com o tipo')\n",
    "plt.xlabel('Notas')\n",
    "plt.ylabel('Contagem')"
   ]
  },
  {
   "cell_type": "markdown",
   "id": "73a37cb3-d316-43c4-8bff-9aa8bb99c357",
   "metadata": {},
   "source": [
    "### Boxplot"
   ]
  },
  {
   "cell_type": "code",
   "execution_count": null,
   "id": "4cbec673-1db8-4424-a374-b82f73d896eb",
   "metadata": {},
   "outputs": [],
   "source": [
    "# boxplot na horizontal\n",
    "\n",
    "\n",
    "# personalização\n",
    "plt.title('Boxplot das Notas')\n",
    "plt.xlabel('Notas')\n",
    "plt.ylabel('Tipo de App')\n",
    "plt.grid()"
   ]
  },
  {
   "cell_type": "markdown",
   "id": "2434e509-16e3-4092-a740-fbdccca4ab03",
   "metadata": {},
   "source": [
    "### 2.4 Qual a nota média para cada tipo de app?"
   ]
  },
  {
   "cell_type": "code",
   "execution_count": null,
   "id": "ee7e6800-4026-4abf-918b-65d10eff89ae",
   "metadata": {},
   "outputs": [],
   "source": [
    "# gráfico de barras com desvio padrão\n",
    "\n",
    "\n",
    "# personalização\n",
    "plt.xlabel('Tipo')\n",
    "plt.ylabel('Notas')"
   ]
  },
  {
   "cell_type": "markdown",
   "id": "86cac020-673d-403f-afb0-274015a8a32c",
   "metadata": {},
   "source": [
    "## 2.5 Qual foi os 10 apps mais baixados?"
   ]
  },
  {
   "cell_type": "code",
   "execution_count": null,
   "id": "7745370e-cdc3-492b-a7bf-34765b0b5898",
   "metadata": {},
   "outputs": [],
   "source": []
  },
  {
   "cell_type": "code",
   "execution_count": null,
   "id": "24edb2a9-9e21-4c58-a23c-2d13423946af",
   "metadata": {},
   "outputs": [],
   "source": []
  },
  {
   "cell_type": "code",
   "execution_count": null,
   "id": "7111d710-6317-444c-b95b-a96299be8edc",
   "metadata": {},
   "outputs": [],
   "source": [
    "# plotando o mesmo gráfico, mas na horizontal para um melhor entendimento\n",
    "\n",
    "\n",
    "# personalização\n",
    "\n",
    "\n",
    "# omitindo as saídas do display\n",
    "display()"
   ]
  },
  {
   "cell_type": "markdown",
   "id": "6f88967d-5a45-4882-8ecc-6c5d3a59fc2d",
   "metadata": {},
   "source": [
    "## Notebook com uma análise mais aprofundada\n",
    "https://github.com/prof-samuka-IFSP/SNCT2022/blob/main/codigos/analise_exploratoria_de_dados_googleplaystore.ipynb"
   ]
  },
  {
   "cell_type": "markdown",
   "id": "2cb38020-5518-48e9-a839-8a32c21b4eb8",
   "metadata": {},
   "source": [
    "## Exercícios"
   ]
  },
  {
   "cell_type": "markdown",
   "id": "c272687b-ba1a-41a4-99f8-8b79bb509a4f",
   "metadata": {},
   "source": [
    "### 1. Qual a nota média para cada categoria?"
   ]
  },
  {
   "cell_type": "code",
   "execution_count": null,
   "id": "ee047e25-8f40-480d-8f85-87433042603a",
   "metadata": {},
   "outputs": [],
   "source": []
  },
  {
   "cell_type": "markdown",
   "id": "44323fbd-33cb-40a7-a117-abe5aa8acc98",
   "metadata": {},
   "source": [
    "### 2. Como as notas se distribuem em cada categoria?"
   ]
  },
  {
   "cell_type": "code",
   "execution_count": null,
   "id": "d2910486-b8fa-424b-9789-8ecd3ebb4955",
   "metadata": {},
   "outputs": [],
   "source": []
  },
  {
   "cell_type": "markdown",
   "id": "f6884c59-3046-41d5-810a-43edf0659437",
   "metadata": {},
   "source": [
    "### 3. Qual a média e distribuição de downloads/instalações dos apps em geral?\n",
    "PS: haverá muitos outliers. Cheque o notebook completo para ver uma possível solução."
   ]
  },
  {
   "cell_type": "code",
   "execution_count": null,
   "id": "69267e94-1ca8-4e5e-a62d-eeb98d18fff3",
   "metadata": {},
   "outputs": [],
   "source": []
  }
 ],
 "metadata": {
  "kernelspec": {
   "display_name": "Python 3",
   "language": "python",
   "name": "python3"
  },
  "language_info": {
   "codemirror_mode": {
    "name": "ipython",
    "version": 3
   },
   "file_extension": ".py",
   "mimetype": "text/x-python",
   "name": "python",
   "nbconvert_exporter": "python",
   "pygments_lexer": "ipython3",
   "version": "3.9.5"
  }
 },
 "nbformat": 4,
 "nbformat_minor": 5
}
